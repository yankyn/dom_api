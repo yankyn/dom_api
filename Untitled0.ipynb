{
 "metadata": {
  "name": "Untitled0"
 },
 "nbformat": 3,
 "nbformat_minor": 0,
 "worksheets": [
  {
   "cells": [
    {
     "cell_type": "code",
     "collapsed": false,
     "input": [
      "import unicode"
     ],
     "language": "python",
     "metadata": {},
     "outputs": [
      {
       "ename": "ImportError",
       "evalue": "No module named unicode",
       "output_type": "pyerr",
       "traceback": [
        "\u001b[1;31m---------------------------------------------------------------------------\u001b[0m\n\u001b[1;31mImportError\u001b[0m                               Traceback (most recent call last)",
        "\u001b[1;32m<ipython-input-1-792a9e45d468>\u001b[0m in \u001b[0;36m<module>\u001b[1;34m()\u001b[0m\n\u001b[1;32m----> 1\u001b[1;33m \u001b[1;32mimport\u001b[0m \u001b[0municode\u001b[0m\u001b[1;33m\u001b[0m\u001b[0m\n\u001b[0m",
        "\u001b[1;31mImportError\u001b[0m: No module named unicode"
       ]
      }
     ],
     "prompt_number": 1
    },
    {
     "cell_type": "code",
     "collapsed": false,
     "input": [
      "fl = open(r'c:\\yanky\\test.txt', 'r')"
     ],
     "language": "python",
     "metadata": {},
     "outputs": [],
     "prompt_number": 90
    },
    {
     "cell_type": "code",
     "collapsed": false,
     "input": [
      "fl.readline().split(' ')"
     ],
     "language": "python",
     "metadata": {},
     "outputs": [
      {
       "output_type": "pyout",
       "prompt_number": 77,
       "text": [
        "['\\xd0\\x93', '\\xd0\\xb3', 'g\\n']"
       ]
      }
     ],
     "prompt_number": 77
    },
    {
     "cell_type": "code",
     "collapsed": false,
     "input": [
      "dictionary = {}\n",
      "lines = fl.readlines()\n",
      "for line in lines:\n",
      "    parts = line.split(' ')\n",
      "    dictionary[parts[0]] = parts[2][-1]\n",
      "    dictionary[parts[1]] = parts[2][-1]\n",
      "    \n",
      "print dictionary"
     ],
     "language": "python",
     "metadata": {},
     "outputs": [
      {
       "output_type": "stream",
       "stream": "stdout",
       "text": [
        "['\\xd0\\x90', '\\xd0\\xb0', 'a\\n']\n",
        "['\\xd0\\x91', '\\xd0\\xb1', 'b\\n']\n",
        "['\\xd0\\x92', '\\xd0\\xb2', 'v\\n']\n",
        "['\\xd0\\x93', '\\xd0\\xb3', 'g\\n']\n",
        "['\\xd0\\x94', '\\xd0\\xb4', 'd\\n']\n",
        "['\\xd0\\x95', '\\xd0\\xb5', 'e\\n']\n",
        "['\\xd0\\x81', '\\xd1\\x91', 'e\\n']\n",
        "['\\xd0\\x96', '\\xd0\\xb6', 'zh\\n']\n",
        "['\\xd0\\x97', '\\xd0\\xb7', 'z\\n']\n",
        "['\\xd0\\x98', '\\xd0\\xb8', 'i\\n']\n",
        "['\\xd0\\x99', '\\xd0\\xb9', 'i\\n']\n",
        "['\\xd0\\x9a', '\\xd0\\xba', 'k\\n']\n",
        "['\\xd0\\x9b', '\\xd0\\xbb', 'l\\n']\n",
        "['\\xd0\\x9c', '\\xd0\\xbc', 'm\\n']\n",
        "['\\xd0\\x9d', '\\xd0\\xbd', 'n\\n']\n",
        "['\\xd0\\x9e', '\\xd0\\xbe', 'o\\n']\n",
        "['\\xd0\\x9f', '\\xd0\\xbf', 'p\\n']\n",
        "['\\xd0\\xa0', '\\xd1\\x80', 'r\\n']\n",
        "['\\xd0\\xa1', '\\xd1\\x81', 's\\n']\n",
        "['\\xd0\\xa2', '\\xd1\\x82', 't\\n']\n",
        "['\\xd0\\xa3', '\\xd1\\x83', 'u\\n']\n",
        "['\\xd0\\xa4', '\\xd1\\x84', 'f\\n']\n",
        "['\\xd0\\xa5', '\\xd1\\x85', 'kh\\n']\n",
        "['\\xd0\\xa6', '\\xd1\\x86', 'tc\\n']\n",
        "['\\xd0\\xa7', '\\xd1\\x87', 'ch\\n']\n",
        "['\\xd0\\xa8', '\\xd1\\x88', 'sh\\n']\n",
        "['\\xd0\\xa9', '\\xd1\\x89', 'shch\\n']\n",
        "['\\xd0\\xaa', '\\xd1\\x8a', '\\xe2\\x80\\x93\\n']\n",
        "['\\xd0\\xab', '\\xd1\\x8b', 'y\\n']\n",
        "['\\xd0\\xac', '\\xd1\\x8c', '\\xe2\\x80\\x93\\n']\n",
        "['\\xd0\\xad', '\\xd1\\x8d', 'e\\n']\n",
        "['\\xd0\\xae', '\\xd1\\x8e', 'iu\\n']\n",
        "['\\xd0\\xaf', '\\xd1\\x8f', 'ia']\n",
        "{'\\xd1\\x91': '\\n', '\\xd1\\x81': '\\n', '\\xd1\\x80': '\\n', '\\xd1\\x83': '\\n', '\\xd1\\x82': '\\n', '\\xd1\\x85': '\\n', '\\xd1\\x84': '\\n', '\\xd1\\x87': '\\n', '\\xd1\\x86': '\\n', '\\xd1\\x89': '\\n', '\\xd1\\x88': '\\n', '\\xd1\\x8b': '\\n', '\\xd1\\x8a': '\\n', '\\xd1\\x8d': '\\n', '\\xd1\\x8c': '\\n', '\\xd1\\x8f': 'a', '\\xd1\\x8e': '\\n', '\\xd0\\xb2': '\\n', '\\xd0\\xb3': '\\n', '\\xd0\\xb0': '\\n', '\\xd0\\xb1': '\\n', '\\xd0\\xb6': '\\n', '\\xd0\\xb7': '\\n', '\\xd0\\xb4': '\\n', '\\xd0\\xb5': '\\n', '\\xd0\\xba': '\\n', '\\xd0\\xbb': '\\n', '\\xd0\\xb8': '\\n', '\\xd0\\xb9': '\\n', '\\xd0\\xbe': '\\n', '\\xd0\\xbf': '\\n', '\\xd0\\xbc': '\\n', '\\xd0\\xbd': '\\n', '\\xd0\\xa2': '\\n', '\\xd0\\xa3': '\\n', '\\xd0\\xa0': '\\n', '\\xd0\\xa1': '\\n', '\\xd0\\xa6': '\\n', '\\xd0\\xa7': '\\n', '\\xd0\\xa4': '\\n', '\\xd0\\xa5': '\\n', '\\xd0\\xaa': '\\n', '\\xd0\\xab': '\\n', '\\xd0\\xa8': '\\n', '\\xd0\\xa9': '\\n', '\\xd0\\xae': '\\n', '\\xd0\\xaf': 'a', '\\xd0\\xac': '\\n', '\\xd0\\xad': '\\n', '\\xd0\\x92': '\\n', '\\xd0\\x93': '\\n', '\\xd0\\x90': '\\n', '\\xd0\\x91': '\\n', '\\xd0\\x96': '\\n', '\\xd0\\x97': '\\n', '\\xd0\\x94': '\\n', '\\xd0\\x95': '\\n', '\\xd0\\x9a': '\\n', '\\xd0\\x9b': '\\n', '\\xd0\\x98': '\\n', '\\xd0\\x99': '\\n', '\\xd0\\x9e': '\\n', '\\xd0\\x9f': '\\n', '\\xd0\\x9c': '\\n', '\\xd0\\x9d': '\\n', '\\xd0\\x81': '\\n'}\n"
       ]
      }
     ],
     "prompt_number": 91
    }
   ],
   "metadata": {}
  }
 ]
}